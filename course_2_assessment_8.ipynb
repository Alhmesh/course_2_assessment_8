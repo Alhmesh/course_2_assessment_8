{
  "nbformat": 4,
  "nbformat_minor": 0,
  "metadata": {
    "colab": {
      "provenance": [],
      "authorship_tag": "ABX9TyOd1du2fZGDPe6DzKluKFqt"
    },
    "kernelspec": {
      "name": "python3",
      "display_name": "Python 3"
    },
    "language_info": {
      "name": "python"
    }
  },
  "cells": [
    {
      "cell_type": "code",
      "execution_count": null,
      "metadata": {
        "id": "BXaObY9cP33H"
      },
      "outputs": [],
      "source": [
        "#Sort the following string alphabetically, from z to a, and assign it to the variable sorted_letters.\n",
        "\n",
        "letters = \"alwnfiwaksuezlaeiajsdl\"\n",
        "sorted_letters = sorted(letters, reverse = True)"
      ]
    },
    {
      "cell_type": "code",
      "source": [
        "#Sort the list below, animals, into alphabetical order, a-z. Save the new list as animals_sorted.\n",
        "\n",
        "animals = ['elephant', 'cat', 'moose', 'antelope', 'elk', 'rabbit', 'zebra', 'yak', 'salamander', 'deer', 'otter', 'minx', 'giraffe', 'goat', 'cow', 'tiger', 'bear']\n",
        "\n",
        "animals_sorted = sorted(animals)"
      ],
      "metadata": {
        "id": "XSMrbN4YQSYj"
      },
      "execution_count": null,
      "outputs": []
    },
    {
      "cell_type": "code",
      "source": [
        "#The dictionary, medals, shows the medal count for six countries during the Rio Olympics.\n",
        "#Sort the country names so they appear alphabetically. Save this list to the variable alphabetical.\n",
        "\n",
        "medals = {'Japan':41, 'Russia':56, 'South Korea':21, 'United States':121, 'Germany':42, 'China':70}\n",
        "\n",
        "alphabetical = sorted(medals)\n",
        "print(alphabetical)"
      ],
      "metadata": {
        "id": "M5Z40j2RQXCN"
      },
      "execution_count": null,
      "outputs": []
    },
    {
      "cell_type": "code",
      "source": [
        "#Given the same dictionary, medals, now sort by the medal count. Save the three countries with the highest medal count to the list, top_three.\n",
        "\n",
        "medals = {'Japan':41, 'Russia':56, 'South Korea':21, 'United States':121, 'Germany':42, 'China':70}\n",
        "\n",
        "top_three = sorted(medals, key = lambda country: medals[country], reverse = True)[:3]"
      ],
      "metadata": {
        "id": "ZVQrE4XfQcGF"
      },
      "execution_count": null,
      "outputs": []
    },
    {
      "cell_type": "code",
      "source": [
        "# We have provided the dictionary groceries. You should return a list of its keys, but they should be sorted by their values, from highest to lowest. Save the new list as most_needed.\n",
        "\n",
        "\n",
        "groceries = {'apples': 5, 'pasta': 3, 'carrots': 12, 'orange juice': 2, 'bananas': 8, 'popcorn': 1, 'salsa': 3, 'cereal': 4, 'coffee': 5, 'granola bars': 15, 'onions': 7, 'rice': 1, 'peanut butter': 2, 'spinach': 9}\n",
        "\n",
        "most_needed = sorted(groceries, key = lambda items: groceries[items], reverse = True)\n",
        "print(most_needed)"
      ],
      "metadata": {
        "id": "lvt6TFhdQiMc"
      },
      "execution_count": null,
      "outputs": []
    },
    {
      "cell_type": "code",
      "source": [
        "#Create a function called last_four that takes in a single ID number and returns the last four digits. For example,\n",
        "#the number 17573005 should return 3005. Then, use the resulting function to sort the list of ids stored in the variable, ids, from lowest to highest.\n",
        "#Save this sorted list in the variable, sorted_ids. Hint: Remember that only strings can be indexed, so conversions may be needed.\n",
        "\n",
        "\n",
        "def last_four(x):\n",
        "    last_four_number = []\n",
        "    for number in str(x):\n",
        "        last_four_number.append(number[4:])\n",
        "    return last_four_number\n",
        "\n",
        "\n",
        "ids = [17573005, 17572342, 17579000, 17570002, 17572345, 17579329]\n",
        "sorted_ids = sorted(ids, key = last_four)\n",
        "#print(last_four(ids))"
      ],
      "metadata": {
        "id": "gCCKGjnTQky8"
      },
      "execution_count": null,
      "outputs": []
    },
    {
      "cell_type": "code",
      "source": [
        "#Sort the list ids by the last four digits of each id. Do this using lambda and not using a defined function. Save this sorted list in the variable sorted_id.\n",
        "\n",
        "\n",
        "ids = [17573005, 17572342, 17579000, 17570002, 17572345, 17579329]\n",
        "\n",
        "sorted_id = sorted(ids, key = lambda count: str(count)[4:])"
      ],
      "metadata": {
        "id": "5fUTwld8QrjX"
      },
      "execution_count": null,
      "outputs": []
    },
    {
      "cell_type": "code",
      "source": [
        "#Sort the following list by each element’s second letter a to z. Do so by using lambda. Assign the resulting value to the variable lambda_sort.\n",
        "\n",
        "\n",
        "ex_lst = ['hi', 'how are you', 'bye', 'apple', 'zebra', 'dance']\n",
        "\n",
        "lambda_sort = sorted(ex_lst, key = lambda letter: letter[1])"
      ],
      "metadata": {
        "id": "SQjTx4u6QwFI"
      },
      "execution_count": null,
      "outputs": []
    }
  ]
}